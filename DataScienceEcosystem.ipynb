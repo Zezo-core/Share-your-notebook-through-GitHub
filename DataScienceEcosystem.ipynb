{
  "nbformat": 4,
  "nbformat_minor": 0,
  "metadata": {
    "colab": {
      "provenance": []
    },
    "kernelspec": {
      "name": "python3",
      "display_name": "Python 3"
    },
    "language_info": {
      "name": "python"
    }
  },
  "cells": [
    {
      "cell_type": "markdown",
      "source": [
        "# Data Science Tools and Ecosystem"
      ],
      "metadata": {
        "id": "8Z1Lcjwei1Y6"
      }
    },
    {
      "cell_type": "markdown",
      "source": [
        "In this notebook, Data Science Tools and Ecosystem are summarized."
      ],
      "metadata": {
        "id": "qivWUpLfl0c6"
      }
    },
    {
      "cell_type": "markdown",
      "source": [
        "**Objectives:**\n",
        "* List popular languages for Data Science\n",
        "* List commonly libraries used by Data Scientists\n",
        "* List Data Science Tools"
      ],
      "metadata": {
        "id": "i8q1qsGXq3IE"
      }
    },
    {
      "cell_type": "markdown",
      "source": [
        "Some of the popular languages that Data Scientists use are:\n",
        "1. R\n",
        "2. Python\n",
        "3. Scala"
      ],
      "metadata": {
        "id": "jbJC8lYxmEk9"
      }
    },
    {
      "cell_type": "markdown",
      "source": [
        "Some of the commonly used libraries used by Data Scientists include:\n",
        "1. TensorFlow\n",
        "2. Scikit Learn\n",
        "3. Pandas"
      ],
      "metadata": {
        "id": "T7qFn-ySm6yO"
      }
    },
    {
      "cell_type": "markdown",
      "source": [
        "|Data Science Tools|\n",
        "|-----|\n",
        "|Jupyter|\n",
        "|Spyder|\n",
        "|RStudio|\n"
      ],
      "metadata": {
        "id": "_91m_P0ZnmMp"
      }
    },
    {
      "cell_type": "markdown",
      "source": [
        "### Below are a few examples of evaluating arithmetic expressions in Python\n"
      ],
      "metadata": {
        "id": "Bnw9h9AIpf7e"
      }
    },
    {
      "cell_type": "markdown",
      "source": [
        "arithmetic expression to mutiply then add integers"
      ],
      "metadata": {
        "id": "vH4dufF8qORK"
      }
    },
    {
      "cell_type": "code",
      "source": [
        "(3*4)+5"
      ],
      "metadata": {
        "colab": {
          "base_uri": "https://localhost:8080/"
        },
        "id": "6BwVAo5kp6qr",
        "outputId": "8ef7b264-4906-4881-c2a4-72a6fae6e0ad"
      },
      "execution_count": 1,
      "outputs": [
        {
          "output_type": "execute_result",
          "data": {
            "text/plain": [
              "17"
            ]
          },
          "metadata": {},
          "execution_count": 1
        }
      ]
    },
    {
      "cell_type": "markdown",
      "source": [
        "This will convert 200 minutes to hours by diving by 60"
      ],
      "metadata": {
        "id": "hoVSkH7gqhwd"
      }
    },
    {
      "cell_type": "code",
      "source": [
        "200/60"
      ],
      "metadata": {
        "colab": {
          "base_uri": "https://localhost:8080/"
        },
        "id": "W3ZvkYJHqeXb",
        "outputId": "f8269f8e-b77b-415a-a6e3-7d859c48f594"
      },
      "execution_count": 2,
      "outputs": [
        {
          "output_type": "execute_result",
          "data": {
            "text/plain": [
              "3.3333333333333335"
            ]
          },
          "metadata": {},
          "execution_count": 2
        }
      ]
    },
    {
      "cell_type": "markdown",
      "source": [
        "## Author\n",
        "Abdulaziz"
      ],
      "metadata": {
        "id": "EcHsF-vtrxvO"
      }
    }
  ]
}